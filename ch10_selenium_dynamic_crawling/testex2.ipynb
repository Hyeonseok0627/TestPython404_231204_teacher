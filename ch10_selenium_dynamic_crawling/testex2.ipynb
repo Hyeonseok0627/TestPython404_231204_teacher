{
 "cells": [
  {
   "cell_type": "code",
   "execution_count": 2,
   "metadata": {},
   "outputs": [
    {
     "name": "stdout",
     "output_type": "stream",
     "text": [
      "target 타입 조사 : <class 'selenium.webdriver.remote.webelement.WebElement'> \n"
     ]
    }
   ],
   "source": [
    "from selenium import webdriver\n",
    "from selenium.webdriver.common.by import By\n",
    "import time\n",
    "# 드라이버 연결 부분이 변경이 됨. \n",
    "driver = webdriver.Chrome()\n",
    "\n",
    "# pdf p17 예제를 확인. \n",
    "driver.get('https://google.com/ncr')\n",
    "# all_videos = driver.find_elements(By.ID, \"dismissible\")\n",
    "# print(all_videos)\n",
    "# 문법 변경. : \n",
    "# 구글 검색책 -> 검색어 : 파이썬 입력 -> 해당 페이지로 이동 후. \n",
    "target = driver.find_element(By.NAME,\"q\")\n",
    "print(f\"target 타입 조사 : {type(target)} \")\n",
    "target.send_keys(\"파이썬\")\n",
    "target.submit()\n",
    "\n",
    "# 2번째 작업. \n",
    "# 첫번째 링크에 진입 하기. \n",
    "# img_elements = driver.find_elements(By.CSS_SELECTOR,\".rg_i\")\n",
    "link_elements = driver.find_elements(By.CSS_SELECTOR,\".LC20lb\")\n",
    "print(f\"link_elements : {link_elements}\")\n",
    "\n",
    "\n",
    "\n",
    "time.sleep(2)\n",
    "datas = []"
   ]
  }
 ],
 "metadata": {
  "kernelspec": {
   "display_name": "Python 3",
   "language": "python",
   "name": "python3"
  },
  "language_info": {
   "codemirror_mode": {
    "name": "ipython",
    "version": 3
   },
   "file_extension": ".py",
   "mimetype": "text/x-python",
   "name": "python",
   "nbconvert_exporter": "python",
   "pygments_lexer": "ipython3",
   "version": "3.12.0"
  }
 },
 "nbformat": 4,
 "nbformat_minor": 2
}
